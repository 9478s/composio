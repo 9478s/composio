{
 "cells": [
  {
   "cell_type": "code",
   "execution_count": 1,
   "metadata": {},
   "outputs": [],
   "source": [
    "import os\n",
    "import json"
   ]
  },
  {
   "cell_type": "code",
   "execution_count": 2,
   "metadata": {},
   "outputs": [],
   "source": [
    "method = \"20240628_autocoderover-v20240620\"\n",
    "base_file = \"/Users/shrey/Desktop/Composio-dev/composio/python/swe/temp/experiments/evaluation/verified/{method}/results/results.json\"\n"
   ]
  },
  {
   "cell_type": "code",
   "execution_count": 4,
   "metadata": {},
   "outputs": [],
   "source": [
    "json_file = open(base_file.format(method=method))\n",
    "data1 = json.load(json_file)"
   ]
  },
  {
   "cell_type": "code",
   "execution_count": 6,
   "metadata": {},
   "outputs": [
    {
     "data": {
      "text/plain": [
       "192"
      ]
     },
     "execution_count": 6,
     "metadata": {},
     "output_type": "execute_result"
    }
   ],
   "source": [
    "len(data1['resolved'])"
   ]
  },
  {
   "cell_type": "code",
   "execution_count": 7,
   "metadata": {},
   "outputs": [],
   "source": [
    "method = \"20240617_factory_code_droid\"\n",
    "json_file = open(base_file.format(method=method))\n",
    "data2 = json.load(json_file)"
   ]
  },
  {
   "cell_type": "code",
   "execution_count": 8,
   "metadata": {},
   "outputs": [
    {
     "data": {
      "text/plain": [
       "185"
      ]
     },
     "execution_count": 8,
     "metadata": {},
     "output_type": "execute_result"
    }
   ],
   "source": [
    "len(data2['resolved'])"
   ]
  },
  {
   "cell_type": "code",
   "execution_count": 10,
   "metadata": {},
   "outputs": [],
   "source": [
    "intersection = set(data1['resolved']) & set(data2['resolved'])"
   ]
  },
  {
   "cell_type": "code",
   "execution_count": 12,
   "metadata": {},
   "outputs": [],
   "source": [
    "test_dir = \"/Users/shrey/Desktop/Composio-dev/composio/python/swe/temp/test_100\""
   ]
  },
  {
   "cell_type": "code",
   "execution_count": 16,
   "metadata": {},
   "outputs": [
    {
     "data": {
      "text/plain": [
       "35"
      ]
     },
     "execution_count": 16,
     "metadata": {},
     "output_type": "execute_result"
    }
   ],
   "source": [
    "len(set(data1['resolved']) & set(os.listdir(test_dir)))"
   ]
  },
  {
   "cell_type": "code",
   "execution_count": 17,
   "metadata": {},
   "outputs": [
    {
     "data": {
      "text/plain": [
       "39"
      ]
     },
     "execution_count": 17,
     "metadata": {},
     "output_type": "execute_result"
    }
   ],
   "source": [
    "len(set(data2['resolved']) & set(os.listdir(test_dir)))"
   ]
  },
  {
   "cell_type": "code",
   "execution_count": 19,
   "metadata": {},
   "outputs": [],
   "source": [
    "ann = ['sympy__sympy-13551',\n",
    " 'django__django-11749',\n",
    " 'django__django-16100',\n",
    " 'matplotlib__matplotlib-22871',\n",
    " 'astropy__astropy-14369',\n",
    " 'sphinx-doc__sphinx-9658',\n",
    " 'matplotlib__matplotlib-20826',\n",
    " 'sphinx-doc__sphinx-7440',\n",
    " 'matplotlib__matplotlib-24637',\n",
    " 'django__django-17084',\n",
    " 'sphinx-doc__sphinx-9367',\n",
    " 'django__django-15916',\n",
    " 'sympy__sympy-24661',\n",
    " 'django__django-13128',\n",
    " 'django__django-15277',\n",
    " 'django__django-16116',\n",
    " 'scikit-learn__scikit-learn-25102',\n",
    " 'scikit-learn__scikit-learn-14496',\n",
    " 'django__django-12708']"
   ]
  },
  {
   "cell_type": "code",
   "execution_count": 21,
   "metadata": {},
   "outputs": [
    {
     "data": {
      "text/plain": [
       "{'django__django-12708',\n",
       " 'django__django-15277',\n",
       " 'django__django-16100',\n",
       " 'django__django-16116',\n",
       " 'scikit-learn__scikit-learn-14496',\n",
       " 'scikit-learn__scikit-learn-25102',\n",
       " 'sphinx-doc__sphinx-9367'}"
      ]
     },
     "execution_count": 21,
     "metadata": {},
     "output_type": "execute_result"
    }
   ],
   "source": [
    "set(data1['resolved']) & set(ann)\n",
    "# set(data2['resolved']) & set(ann)\n"
   ]
  },
  {
   "cell_type": "code",
   "execution_count": null,
   "metadata": {},
   "outputs": [],
   "source": []
  }
 ],
 "metadata": {
  "kernelspec": {
   "display_name": "python-PN9waRBr",
   "language": "python",
   "name": "python3"
  },
  "language_info": {
   "codemirror_mode": {
    "name": "ipython",
    "version": 3
   },
   "file_extension": ".py",
   "mimetype": "text/x-python",
   "name": "python",
   "nbconvert_exporter": "python",
   "pygments_lexer": "ipython3",
   "version": "3.10.14"
  }
 },
 "nbformat": 4,
 "nbformat_minor": 2
}
