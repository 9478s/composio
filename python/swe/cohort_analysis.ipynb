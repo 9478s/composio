{
 "cells": [
  {
   "cell_type": "code",
   "execution_count": 2,
   "metadata": {},
   "outputs": [],
   "source": [
    "import os\n",
    "import json"
   ]
  },
  {
   "cell_type": "code",
   "execution_count": 3,
   "metadata": {},
   "outputs": [],
   "source": [
    "method = \"20240628_autocoderover-v20240620\"\n",
    "base_file = \"/Users/shrey/Desktop/Composio-dev/composio/python/swe/temp/experiments/evaluation/verified/{method}/results/results.json\"\n"
   ]
  },
  {
   "cell_type": "code",
   "execution_count": 4,
   "metadata": {},
   "outputs": [],
   "source": [
    "json_file = open(base_file.format(method=method))\n",
    "data1 = json.load(json_file)"
   ]
  },
  {
   "cell_type": "code",
   "execution_count": 5,
   "metadata": {},
   "outputs": [
    {
     "data": {
      "text/plain": [
       "192"
      ]
     },
     "execution_count": 5,
     "metadata": {},
     "output_type": "execute_result"
    }
   ],
   "source": [
    "len(data1['resolved'])"
   ]
  },
  {
   "cell_type": "code",
   "execution_count": 6,
   "metadata": {},
   "outputs": [],
   "source": [
    "method = \"20240617_factory_code_droid\"\n",
    "json_file = open(base_file.format(method=method))\n",
    "data2 = json.load(json_file)"
   ]
  },
  {
   "cell_type": "code",
   "execution_count": 7,
   "metadata": {},
   "outputs": [
    {
     "data": {
      "text/plain": [
       "185"
      ]
     },
     "execution_count": 7,
     "metadata": {},
     "output_type": "execute_result"
    }
   ],
   "source": [
    "len(data2['resolved'])"
   ]
  },
  {
   "cell_type": "code",
   "execution_count": 7,
   "metadata": {},
   "outputs": [],
   "source": [
    "intersection = set(data1['resolved']) & set(data2['resolved'])"
   ]
  },
  {
   "cell_type": "code",
   "execution_count": 8,
   "metadata": {},
   "outputs": [],
   "source": [
    "test_dir = \"/Users/shrey/Desktop/Composio-dev/composio/python/swe/temp/test_0_100\""
   ]
  },
  {
   "cell_type": "code",
   "execution_count": 9,
   "metadata": {},
   "outputs": [
    {
     "data": {
      "text/plain": [
       "38"
      ]
     },
     "execution_count": 9,
     "metadata": {},
     "output_type": "execute_result"
    }
   ],
   "source": [
    "len(set(data1['resolved']) & set(os.listdir(test_dir)))"
   ]
  },
  {
   "cell_type": "code",
   "execution_count": 10,
   "metadata": {},
   "outputs": [
    {
     "data": {
      "text/plain": [
       "42"
      ]
     },
     "execution_count": 10,
     "metadata": {},
     "output_type": "execute_result"
    }
   ],
   "source": [
    "len(set(data2['resolved']) & set(os.listdir(test_dir)))"
   ]
  },
  {
   "cell_type": "code",
   "execution_count": 16,
   "metadata": {},
   "outputs": [
    {
     "name": "stdout",
     "output_type": "stream",
     "text": [
      "16\n",
      "\"astropy__astropy-8707\"\n",
      "\"django__django-12713\"\n",
      "\"django__django-13590\"\n",
      "\"django__django-14500\"\n",
      "\"django__django-14999\"\n",
      "\"django__django-15863\"\n",
      "\"django__django-15930\"\n",
      "\"pytest-dev__pytest-7205\"\n",
      "\"pytest-dev__pytest-7982\"\n",
      "\"scikit-learn__scikit-learn-15100\"\n",
      "\"scikit-learn__scikit-learn-25232\"\n",
      "\"scikit-learn__scikit-learn-26323\"\n",
      "\"sphinx-doc__sphinx-8595\"\n",
      "\"sympy__sympy-18763\"\n",
      "\"sympy__sympy-24443\"\n",
      "\"sympy__sympy-24539\"\n"
     ]
    }
   ],
   "source": [
    "l = list(set(data1['resolved']) & set(os.listdir(test_dir)) & set(data2['resolved']) - set(resolved))\n",
    "l.sort()\n",
    "print(len(l))\n",
    "print(\"\\n\".join([f\"\\\"{repo}\\\"\" for repo in l]))"
   ]
  },
  {
   "cell_type": "code",
   "execution_count": 13,
   "metadata": {},
   "outputs": [],
   "source": [
    "resolved = ['django__django-11066',\n",
    " 'django__django-11451',\n",
    " 'django__django-12276',\n",
    " 'django__django-12304',\n",
    " 'django__django-13741',\n",
    " 'django__django-14559',\n",
    " 'django__django-15315',\n",
    " 'django__django-16139',\n",
    " 'django__django-16333',\n",
    " 'django__django-16485',\n",
    " 'django__django-16801',\n",
    " 'django__django-7530',\n",
    " 'matplotlib__matplotlib-24570',\n",
    " 'pydata__xarray-6599',\n",
    " 'scikit-learn__scikit-learn-11578']"
   ]
  },
  {
   "cell_type": "code",
   "execution_count": 14,
   "metadata": {},
   "outputs": [
    {
     "name": "stdout",
     "output_type": "stream",
     "text": [
      "26\n",
      "\"astropy__astropy-8707\"\n",
      "\"django__django-12713\"\n",
      "\"django__django-13590\"\n",
      "\"django__django-14238\"\n",
      "\"django__django-14500\"\n",
      "\"django__django-14999\"\n",
      "\"django__django-15863\"\n",
      "\"django__django-15930\"\n",
      "\"django__django-16100\"\n",
      "\"pytest-dev__pytest-5262\"\n",
      "\"pytest-dev__pytest-7205\"\n",
      "\"pytest-dev__pytest-7982\"\n",
      "\"scikit-learn__scikit-learn-10908\"\n",
      "\"scikit-learn__scikit-learn-13779\"\n",
      "\"scikit-learn__scikit-learn-15100\"\n",
      "\"scikit-learn__scikit-learn-25232\"\n",
      "\"scikit-learn__scikit-learn-26323\"\n",
      "\"sphinx-doc__sphinx-7910\"\n",
      "\"sphinx-doc__sphinx-8595\"\n",
      "\"sphinx-doc__sphinx-9320\"\n",
      "\"sympy__sympy-15349\"\n",
      "\"sympy__sympy-15809\"\n",
      "\"sympy__sympy-18189\"\n",
      "\"sympy__sympy-18763\"\n",
      "\"sympy__sympy-24443\"\n",
      "\"sympy__sympy-24539\"\n"
     ]
    }
   ],
   "source": [
    "l = list(set(data1['resolved']) & set(os.listdir(test_dir)) - set(resolved))\n",
    "l.sort()\n",
    "print(len(l))\n",
    "print(\"\\n\".join([f\"\\\"{repo}\\\"\" for repo in l]))"
   ]
  },
  {
   "cell_type": "code",
   "execution_count": null,
   "metadata": {},
   "outputs": [],
   "source": []
  }
 ],
 "metadata": {
  "kernelspec": {
   "display_name": "python-PN9waRBr",
   "language": "python",
   "name": "python3"
  },
  "language_info": {
   "codemirror_mode": {
    "name": "ipython",
    "version": 3
   },
   "file_extension": ".py",
   "mimetype": "text/x-python",
   "name": "python",
   "nbconvert_exporter": "python",
   "pygments_lexer": "ipython3",
   "version": "3.10.14"
  }
 },
 "nbformat": 4,
 "nbformat_minor": 2
}
