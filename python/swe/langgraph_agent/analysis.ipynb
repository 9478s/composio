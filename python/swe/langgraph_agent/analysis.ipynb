{
 "cells": [
  {
   "cell_type": "code",
   "execution_count": 6,
   "metadata": {},
   "outputs": [],
   "source": [
    "import os"
   ]
  },
  {
   "cell_type": "code",
   "execution_count": 9,
   "metadata": {},
   "outputs": [
    {
     "ename": "TypeError",
     "evalue": "unsupported operand type(s) for +=: 'set' and 'set'",
     "output_type": "error",
     "traceback": [
      "\u001b[0;31m---------------------------------------------------------------------------\u001b[0m",
      "\u001b[0;31mTypeError\u001b[0m                                 Traceback (most recent call last)",
      "Cell \u001b[0;32mIn[9], line 2\u001b[0m\n\u001b[1;32m      1\u001b[0m made \u001b[38;5;241m=\u001b[39m \u001b[38;5;28mset\u001b[39m(os\u001b[38;5;241m.\u001b[39mlistdir(\u001b[38;5;124m\"\u001b[39m\u001b[38;5;124m./logs/run_evaluation/langgraph_agent_1725636140N/composio\u001b[39m\u001b[38;5;124m\"\u001b[39m))\n\u001b[0;32m----> 2\u001b[0m made \u001b[38;5;241m+\u001b[39m\u001b[38;5;241m=\u001b[39m \u001b[38;5;28mset\u001b[39m(os\u001b[38;5;241m.\u001b[39mlistdir(\u001b[38;5;124m\"\u001b[39m\u001b[38;5;124m./logs/run_evaluation/langgraph_agent_1725641394N/composio\u001b[39m\u001b[38;5;124m\"\u001b[39m))\n\u001b[1;32m      3\u001b[0m test \u001b[38;5;241m=\u001b[39m \u001b[38;5;28mset\u001b[39m(os\u001b[38;5;241m.\u001b[39mlistdir(\u001b[38;5;124m\"\u001b[39m\u001b[38;5;124m/Users/shrey/Desktop/Composio-dev/composio/python/swe/temp/test\u001b[39m\u001b[38;5;124m\"\u001b[39m))\n\u001b[1;32m      5\u001b[0m \u001b[38;5;28mprint\u001b[39m(test \u001b[38;5;241m-\u001b[39m made)\n",
      "\u001b[0;31mTypeError\u001b[0m: unsupported operand type(s) for +=: 'set' and 'set'"
     ]
    }
   ],
   "source": [
    "made = set(os.listdir(\"./logs/run_evaluation/langgraph_agent_1725636140N/composio\"))\n",
    "made = set(os.listdir(\"./logs/run_evaluation/langgraph_agent_1725641394N/composio\"))\n",
    "test = set(os.listdir(\"/Users/shrey/Desktop/Composio-dev/composio/python/swe/temp/test\"))\n",
    "\n",
    "print(test - made)"
   ]
  },
  {
   "cell_type": "code",
   "execution_count": 4,
   "metadata": {},
   "outputs": [
    {
     "data": {
      "text/plain": [
       "['django__django-16612',\n",
       " 'sympy__sympy-20801',\n",
       " 'sympy__sympy-24066',\n",
       " 'django__django-11603',\n",
       " 'django__django-13590',\n",
       " 'django__django-16255',\n",
       " 'pydata__xarray-4966',\n",
       " 'django__django-16493',\n",
       " 'sympy__sympy-22914',\n",
       " 'sympy__sympy-24539',\n",
       " 'sympy__sympy-21847',\n",
       " 'django__django-13810',\n",
       " 'django__django-14373',\n",
       " 'django__django-15467',\n",
       " 'django__django-13741',\n",
       " 'django__django-14500',\n",
       " 'scikit-learn__scikit-learn-10297',\n",
       " 'django__django-14089',\n",
       " 'scikit-learn__scikit-learn-11578',\n",
       " 'django__django-12143']"
      ]
     },
     "execution_count": 4,
     "metadata": {},
     "output_type": "execute_result"
    }
   ],
   "source": [
    "os.listdir(\"/Users/shrey/Desktop/Composio-dev/composio/python/swe/temp/test\")"
   ]
  },
  {
   "cell_type": "code",
   "execution_count": 18,
   "metadata": {},
   "outputs": [],
   "source": [
    "import os\n",
    "import json"
   ]
  },
  {
   "cell_type": "code",
   "execution_count": 45,
   "metadata": {},
   "outputs": [],
   "source": [
    "dir_file = \"/Users/shrey/Desktop/Composio-dev/composio/python/swe/temp/langgraph_agent/logs/run_evaluation/langgraph_agent_1725824120N/composio\"\n",
    "\n",
    "repos = {dir.split(\"__\")[0]: {} for dir in os.listdir(dir_file)}\n",
    "\n",
    "for dir in os.listdir(dir_file):\n",
    "    repo = dir.split(\"__\")[0]\n",
    "    info = repos[repo]\n",
    "    if \"total\" not in info:\n",
    "        info[\"total\"] = 0\n",
    "    info[\"total\"] += 1\n",
    "    try:\n",
    "        patch = open(os.path.join(dir_file, dir, \"patch.diff\"), \"r\").read()\n",
    "        report = json.load(open(os.path.join(dir_file, dir, \"report.json\"), \"r\"))\n",
    "        report = report[dir]\n",
    "        if patch == \"\":\n",
    "            if \"empty_patch\" not in info:\n",
    "                info[\"empty_patch\"] = 0\n",
    "            info[\"empty_patch\"] += 1\n",
    "            repos[repo] = info\n",
    "        if report[\"resolved\"]:\n",
    "            if \"resolved\" not in info:\n",
    "                info[\"resolved\"] = 0\n",
    "            info[\"resolved\"] += 1\n",
    "        if report[\"patch_successfully_applied\"] and not report[\"resolved\"] and patch != \"\":\n",
    "            if \"unresolved\" not in info:\n",
    "                info[\"unresolved\"] = 0\n",
    "            info[\"unresolved\"] += 1\n",
    "    except:\n",
    "        if \"test_run_fail\" not in info:\n",
    "            info[\"test_run_fail\"] = 0\n",
    "        info[\"test_run_fail\"] += 1\n",
    "        repos[repo] = info\n"
   ]
  },
  {
   "cell_type": "code",
   "execution_count": 46,
   "metadata": {},
   "outputs": [
    {
     "data": {
      "text/plain": [
       "{'patch_is_None': False,\n",
       " 'patch_exists': True,\n",
       " 'patch_successfully_applied': True,\n",
       " 'resolved': False,\n",
       " 'tests_status': {'FAIL_TO_PASS': {'success': [],\n",
       "   'failure': ['tests/test_ext_autodoc_configs.py::test_autodoc_typehints_description_and_type_aliases']},\n",
       "  'PASS_TO_PASS': {'success': ['tests/test_ext_autodoc_configs.py::test_autoclass_content_class',\n",
       "    'tests/test_ext_autodoc_configs.py::test_autoclass_content_init',\n",
       "    'tests/test_ext_autodoc_configs.py::test_autoclass_content_both',\n",
       "    'tests/test_ext_autodoc_configs.py::test_autodoc_inherit_docstrings',\n",
       "    'tests/test_ext_autodoc_configs.py::test_autodoc_docstring_signature',\n",
       "    'tests/test_ext_autodoc_configs.py::test_autoclass_content_and_docstring_signature_class',\n",
       "    'tests/test_ext_autodoc_configs.py::test_autoclass_content_and_docstring_signature_init',\n",
       "    'tests/test_ext_autodoc_configs.py::test_autoclass_content_and_docstring_signature_both',\n",
       "    'tests/test_ext_autodoc_configs.py::test_mocked_module_imports',\n",
       "    'tests/test_ext_autodoc_configs.py::test_autodoc_typehints_signature',\n",
       "    'tests/test_ext_autodoc_configs.py::test_autodoc_typehints_none',\n",
       "    'tests/test_ext_autodoc_configs.py::test_autodoc_typehints_none_for_overload',\n",
       "    'tests/test_ext_autodoc_configs.py::test_autodoc_typehints_description',\n",
       "    'tests/test_ext_autodoc_configs.py::test_autodoc_typehints_description_for_invalid_node',\n",
       "    'tests/test_ext_autodoc_configs.py::test_autodoc_type_aliases',\n",
       "    'tests/test_ext_autodoc_configs.py::test_autodoc_default_options',\n",
       "    'tests/test_ext_autodoc_configs.py::test_autodoc_default_options_with_values'],\n",
       "   'failure': []},\n",
       "  'FAIL_TO_FAIL': {'success': [], 'failure': []},\n",
       "  'PASS_TO_FAIL': {'success': [], 'failure': []}}}"
      ]
     },
     "execution_count": 46,
     "metadata": {},
     "output_type": "execute_result"
    }
   ],
   "source": [
    "report"
   ]
  },
  {
   "cell_type": "code",
   "execution_count": 47,
   "metadata": {},
   "outputs": [
    {
     "name": "stdout",
     "output_type": "stream",
     "text": [
      "{\n",
      "    \"scikit-learn\": {\n",
      "        \"total\": 6,\n",
      "        \"unresolved\": 3,\n",
      "        \"resolved\": 1,\n",
      "        \"test_run_fail\": 2\n",
      "    },\n",
      "    \"django\": {\n",
      "        \"total\": 42,\n",
      "        \"unresolved\": 24,\n",
      "        \"empty_patch\": 7,\n",
      "        \"resolved\": 10,\n",
      "        \"test_run_fail\": 1\n",
      "    },\n",
      "    \"astropy\": {\n",
      "        \"total\": 6,\n",
      "        \"unresolved\": 5,\n",
      "        \"empty_patch\": 1\n",
      "    },\n",
      "    \"sympy\": {\n",
      "        \"total\": 12,\n",
      "        \"empty_patch\": 2,\n",
      "        \"resolved\": 4,\n",
      "        \"unresolved\": 6\n",
      "    },\n",
      "    \"pytest-dev\": {\n",
      "        \"total\": 4,\n",
      "        \"unresolved\": 4\n",
      "    },\n",
      "    \"sphinx-doc\": {\n",
      "        \"total\": 12,\n",
      "        \"unresolved\": 9,\n",
      "        \"empty_patch\": 3\n",
      "    },\n",
      "    \"matplotlib\": {\n",
      "        \"total\": 11,\n",
      "        \"empty_patch\": 3,\n",
      "        \"unresolved\": 4,\n",
      "        \"resolved\": 4\n",
      "    },\n",
      "    \"mwaskom\": {\n",
      "        \"total\": 1,\n",
      "        \"unresolved\": 1\n",
      "    },\n",
      "    \"pydata\": {\n",
      "        \"total\": 2,\n",
      "        \"resolved\": 1,\n",
      "        \"unresolved\": 1\n",
      "    },\n",
      "    \"pylint-dev\": {\n",
      "        \"total\": 1,\n",
      "        \"unresolved\": 1\n",
      "    },\n",
      "    \"psf\": {\n",
      "        \"total\": 1,\n",
      "        \"unresolved\": 1\n",
      "    }\n",
      "}\n"
     ]
    }
   ],
   "source": [
    "def printj(data):\n",
    "    print(json.dumps(data, indent=4))\n",
    "\n",
    "printj(repos)"
   ]
  },
  {
   "cell_type": "code",
   "execution_count": 50,
   "metadata": {},
   "outputs": [
    {
     "data": {
      "text/plain": [
       "20"
      ]
     },
     "execution_count": 50,
     "metadata": {},
     "output_type": "execute_result"
    }
   ],
   "source": [
    "sum([v[\"resolved\"] if \"resolved\" in v else 0 for v in repos.values()])"
   ]
  },
  {
   "cell_type": "code",
   "execution_count": null,
   "metadata": {},
   "outputs": [],
   "source": []
  }
 ],
 "metadata": {
  "kernelspec": {
   "display_name": "python-PN9waRBr",
   "language": "python",
   "name": "python3"
  },
  "language_info": {
   "codemirror_mode": {
    "name": "ipython",
    "version": 3
   },
   "file_extension": ".py",
   "mimetype": "text/x-python",
   "name": "python",
   "nbconvert_exporter": "python",
   "pygments_lexer": "ipython3",
   "version": "3.10.14"
  }
 },
 "nbformat": 4,
 "nbformat_minor": 2
}
